{
 "cells": [
  {
   "cell_type": "markdown",
   "id": "98342040",
   "metadata": {},
   "source": [
    "# Database of studies\n",
    "In this notebook, a database of students, teachers and courses is constructed with SQLite.\n"
   ]
  },
  {
   "cell_type": "code",
   "execution_count": 80,
   "id": "91fe32d4",
   "metadata": {},
   "outputs": [],
   "source": [
    "import os\n",
    "import sqlite3\n",
    "import pandas as pd\n",
    "\n",
    "db = sqlite3.connect(\"courses.db\")\n",
    "db.isolation_level = None"
   ]
  },
  {
   "cell_type": "markdown",
   "id": "1cae525a",
   "metadata": {},
   "source": [
    "Create tables used in the database"
   ]
  },
  {
   "cell_type": "code",
   "execution_count": 81,
   "id": "2861c017",
   "metadata": {},
   "outputs": [],
   "source": [
    "def create_tables():\n",
    "    db.execute(\"CREATE TABLE Teachers (id INTEGER PRIMARY KEY, name TEXT)\")\n",
    "    db.execute(\"CREATE TABLE Courses (id INTEGER PRIMARY KEY, name TEXT, credits INTEGER)\")\n",
    "    db.execute(\"CREATE TABLE Students (id INTEGER PRIMARY KEY, name TEXT)\")\n",
    "    db.execute(\"CREATE TABLE CourseTeachers (course_id INTEGER REFERENCES Courses, teacher_id INTEGER REFERENCES Teachers)\")\n",
    "    db.execute(\"CREATE TABLE CompletedCourses (student_id INTEGER REFERENCES Students, course_id INTEGER REFERENCES Courses, date DATE, grade INTEGER)\")\n",
    "    db.execute(\"CREATE TABLE Groups (id INTEGER PRIMARY KEY, name TEXT)\")\n",
    "    db.execute(\"CREATE TABLE GroupStudents (group_id INTEGER REFERENCES Groups, student_id INTEGER REFERENCES Students)\")\n",
    "    db.execute(\"CREATE TABLE GroupTeachers (group_id INTEGER REFERENCES Groups, teacher_id INTEGER REFERENCES Teachers)\")"
   ]
  },
  {
   "cell_type": "markdown",
   "id": "5ceb6f99",
   "metadata": {},
   "source": [
    "Create functions for adding information to the tables and retrieve information."
   ]
  },
  {
   "cell_type": "code",
   "execution_count": 82,
   "id": "b286c983",
   "metadata": {},
   "outputs": [],
   "source": [
    "# Add teacher to database\n",
    "def create_teacher(name):\n",
    "    opettaja = db.execute(\"INSERT INTO Teachers (name) VALUES (?)\", [name])\n",
    "    return opettaja.lastrowid\n",
    "\n",
    "# Add course\n",
    "def create_course(name, credits, teacher_ids):\n",
    "    course = db.execute(\"INSERT INTO Courses (name, credits) VALUES (?, ?)\", [name, credits])\n",
    "    for t_id in teacher_ids:\n",
    "        db.execute(\"INSERT INTO CourseTeachers (course_id, teacher_id) VALUES (?, ?)\", [course.lastrowid ,t_id])\n",
    "    return course.lastrowid\n",
    "\n",
    "# Add student\n",
    "def create_student(name):\n",
    "    student = db.execute(\"INSERT INTO Students (name) VALUES (?)\", [name])\n",
    "    return student.lastrowid\n",
    "\n",
    "# Add course credits and grade for a student\n",
    "def add_credits(student_id, course_id, date, grade):\n",
    "    db.execute(\"INSERT INTO CompletedCourses (student_id, course_id, date, grade) VALUES (?, ?, ?, ?)\", [student_id, course_id, date, grade])\n",
    "\n",
    "# Add a group to the database\n",
    "def create_group(name, teacher_ids, student_ids):\n",
    "    group = db.execute(\"INSERT INTO Groups (name) VALUES (?)\", [name])\n",
    "    for t_id in teacher_ids:\n",
    "        db.execute(\"INSERT INTO GroupTeachers (group_id, teacher_id) VALUES (?, ?)\", [group.lastrowid, t_id])\n",
    "    for s_id in student_ids:\n",
    "        db.execute(\"INSERT INTO GroupStudents (group_id, student_id) VALUES (?, ?)\", [group.lastrowid, s_id])\n",
    "\n",
    "# Get courses that a teacher lectures (alphabetically ordered)\n",
    "def courses_by_teacher(teacher_name):\n",
    "    courses = db.execute(\"SELECT C.name FROM Teachers T, Courses C, CourseTeachers CT WHERE T.id = CT.teacher_id AND C.id = CT.course_id AND T.name = ? ORDER BY C.name\",[teacher_name]).fetchall()\n",
    "    courses = [i[0] for i in courses]\n",
    "    return courses\n",
    "\n",
    "# Get credits given by teacher\n",
    "def credits_by_teacher(teacher_name):\n",
    "    credits = db.execute(\"SELECT SUM(C.credits) FROM Teachers T, Courses C, CourseTeachers CT, CompletedCourses CC WHERE T.id = CT.teacher_id AND C.id = CT.course_id AND CC.course_id = C.id AND T.name = ?\", [teacher_name]).fetchone()\n",
    "    return credits[0]\n",
    "\n",
    "# Get completed courses by a student\n",
    "def courses_by_student(student_name):\n",
    "    courses = db.execute(\"SELECT C.name, CC.grade FROM Courses C, Students S, CompletedCourses CC WHERE S.id = CC.student_id AND C.id = CC.course_id AND S.name = ? ORDER BY C.name\", [student_name]).fetchall()\n",
    "    return courses\n",
    "\n",
    "# Get credits done in a year\n",
    "def credits_by_year(year):\n",
    "    year = str(year)\n",
    "    credits = db.execute(\"SELECT SUM(C.credits) FROM CompletedCourses CC, Courses C WHERE C.id = CC.course_id AND SUBSTR(CC.date,1,4) = ?\", [year]).fetchone()\n",
    "    return credits[0]\n",
    "\n",
    "# Get distribution of grade for a course\n",
    "def grade_distribution(course_name):\n",
    "    grades = db.execute(\"SELECT CC.grade FROM Courses C LEFT JOIN CompletedCourses CC ON C.id = CC.course_id WHERE C.name = ?\", [course_name]).fetchall()\n",
    "    grades = [i[0] for i in grades]\n",
    "    grades = dict({1: grades.count(1), 2: grades.count(2), 3: grades.count(3), 4: grades.count(4), 5: grades.count(5)})\n",
    "    return grades\n",
    "\n",
    "# Get a list of information of the courses\n",
    "def course_list():\n",
    "    courses = db.execute(\"SELECT C.name, COUNT(DISTINCT CT.teacher_id), COUNT(DISTINCT CC.student_id) FROM Courses C LEFT JOIN CourseTeachers CT ON C.id = CT.course_id LEFT JOIN CompletedCourses CC ON C.id = CC.course_id GROUP BY C.name ORDER BY C.name\").fetchall()\n",
    "    return courses\n",
    "\n",
    "# Get a list of teachers and their courses\n",
    "def teacher_list():\n",
    "    teachers = db.execute(\"SELECT T.name FROM Teachers T\").fetchall()\n",
    "    teachers.sort()\n",
    "    courses = []\n",
    "    for t in teachers:\n",
    "        t_courses = db.execute(\"SELECT C.name FROM Teachers T LEFT JOIN CourseTeachers CT ON T.id = CT.teacher_id LEFT JOIN Courses C ON CT.course_id = C.id WHERE T.name = ? ORDER BY T.name, C.name\", [t[0]]).fetchall()\n",
    "        t_courses = [i[0] for i in t_courses]\n",
    "        courses.append((t[0],t_courses))\n",
    "\n",
    "    return courses\n",
    "\n",
    "# Get group members\n",
    "def group_people(group_name):\n",
    "    teachers = db.execute(\"SELECT T.name FROM Groups G, GroupTeachers GT, Teachers T WHERE G.id = GT.group_id AND GT.teacher_id = T.id AND G.name = ?\", [group_name]).fetchall()\n",
    "    students = db.execute(\"SELECT S.name FROM Groups G, GroupStudents GS, Students S WHERE G.id = GS.group_id AND GS.student_id = S.id AND G.name = ?\", [group_name]).fetchall()\n",
    "    teachers = [i[0] for i in teachers]\n",
    "    students = [i[0] for i in students]\n",
    "    members = teachers+students\n",
    "    members.sort()\n",
    "    return members\n",
    "\n",
    "# Get the amount of credits in groups\n",
    "def credits_in_groups():\n",
    "    credits = db.execute(\"SELECT G.name, IFNULL(SUM(C.credits),0) FROM Groups G LEFT JOIN GroupStudents GS ON G.id = GS.group_id LEFT JOIN CompletedCourses CC ON GS.student_id = CC.student_id LEFT JOIN Courses C ON CC.course_id = C.id GROUP BY G.name ORDER BY G.name\").fetchall()\n",
    "    return credits\n",
    "\n",
    "# Get common groups of a teacher and a student\n",
    "def common_groups(teacher_name, student_name):\n",
    "    group = db.execute(\"SELECT G.name FROM Groups G, GroupStudents GS, GroupTeachers GT, Students S, Teachers T WHERE G.id = GS.group_id AND G.id = GT.group_id AND GS.student_id = S.id AND GT.teacher_id = T.id AND S.name = ? AND T.name = ?\", [student_name, teacher_name]).fetchall()\n",
    "    group = [i[0] for i in group]\n",
    "    return group\n"
   ]
  },
  {
   "cell_type": "markdown",
   "id": "898510dc",
   "metadata": {},
   "source": [
    "Add information to database."
   ]
  },
  {
   "cell_type": "code",
   "execution_count": 83,
   "id": "76102270",
   "metadata": {},
   "outputs": [],
   "source": [
    "# Create tables and add information\n",
    "create_tables()\n",
    "\n",
    "# Add teachers\n",
    "t1 = create_teacher(\"Pentti Penalainen\")\n",
    "t2 = create_teacher(\"Matti Matikainen\")\n",
    "t3 = create_teacher(\"Pirjo Pirkkala\")\n",
    "t4 = create_teacher(\"Päivi Päiväinen\")\n",
    "t5 = create_teacher(\"Lauri Laurilainen\")\n",
    "\n",
    "# Add courses\n",
    "c1 = create_course(\"Python Basics\", 5, [t1, t3])\n",
    "c2 = create_course(\"Data Analysis\", 8, [t1, t2, t5])\n",
    "c3 = create_course(\"Machine Learning\", 5, [t2, t5])\n",
    "c4 = create_course(\"Data Processing and Visualization\", 10, [t3, t4])\n",
    "c5 = create_course(\"Statistical Analysis\", 6, [t5]) # Ei opiskelijoita\n",
    "\n",
    "# Add students\n",
    "s1 = create_student(\"Henri Heikkinen\")\n",
    "s2 = create_student(\"Late Mallikas\")\n",
    "s3 = create_student(\"Laura Noheva\")\n",
    "s4 = create_student(\"Jenna Jauhoinen\")\n",
    "s5 = create_student(\"Arttu Auttavainen\") # Ei kursseja\n",
    "\n",
    "# Add credits to students\n",
    "add_credits(s1, c1, \"2020-01-10\", 1)\n",
    "add_credits(s1, c2, \"2021-05-01\", 2)\n",
    "add_credits(s1, c4, \"2021-04-02\", 3)\n",
    "add_credits(s2, c1, \"2021-03-01\", 5)\n",
    "add_credits(s2, c2, \"2022-09-08\", 5)\n",
    "add_credits(s3, c3, \"2022-09-10\", 3)\n",
    "add_credits(s4, c3, \"2022-11-01\", 3)\n",
    "add_credits(s4, c4, \"2020-11-29\", 5)\n",
    "\n",
    "# Add groups\n",
    "create_group(\"Urheilijat\", [t1, t2], [s1, s2, s3, s5])\n",
    "create_group(\"Koodarit\", [t4], [s2, s4, s5])\n",
    "create_group(\"Matemaatikot\", [], [s5])\n",
    "create_group(\"Fyysikot\", [t1, t2, t3], [s2, s3, s4, s5])"
   ]
  },
  {
   "cell_type": "markdown",
   "id": "a86224d0",
   "metadata": {},
   "source": [
    "Let's visualize some examples of the created tables"
   ]
  },
  {
   "cell_type": "code",
   "execution_count": 84,
   "id": "b885d829",
   "metadata": {},
   "outputs": [
    {
     "name": "stdout",
     "output_type": "stream",
     "text": [
      "Teachers\n"
     ]
    },
    {
     "data": {
      "text/html": [
       "<div>\n",
       "<style scoped>\n",
       "    .dataframe tbody tr th:only-of-type {\n",
       "        vertical-align: middle;\n",
       "    }\n",
       "\n",
       "    .dataframe tbody tr th {\n",
       "        vertical-align: top;\n",
       "    }\n",
       "\n",
       "    .dataframe thead th {\n",
       "        text-align: right;\n",
       "    }\n",
       "</style>\n",
       "<table border=\"1\" class=\"dataframe\">\n",
       "  <thead>\n",
       "    <tr style=\"text-align: right;\">\n",
       "      <th></th>\n",
       "      <th>id</th>\n",
       "      <th>name</th>\n",
       "    </tr>\n",
       "  </thead>\n",
       "  <tbody>\n",
       "    <tr>\n",
       "      <th>0</th>\n",
       "      <td>1</td>\n",
       "      <td>Pentti Penalainen</td>\n",
       "    </tr>\n",
       "    <tr>\n",
       "      <th>1</th>\n",
       "      <td>2</td>\n",
       "      <td>Matti Matikainen</td>\n",
       "    </tr>\n",
       "    <tr>\n",
       "      <th>2</th>\n",
       "      <td>3</td>\n",
       "      <td>Pirjo Pirkkala</td>\n",
       "    </tr>\n",
       "    <tr>\n",
       "      <th>3</th>\n",
       "      <td>4</td>\n",
       "      <td>Päivi Päiväinen</td>\n",
       "    </tr>\n",
       "    <tr>\n",
       "      <th>4</th>\n",
       "      <td>5</td>\n",
       "      <td>Lauri Laurilainen</td>\n",
       "    </tr>\n",
       "  </tbody>\n",
       "</table>\n",
       "</div>"
      ],
      "text/plain": [
       "   id               name\n",
       "0   1  Pentti Penalainen\n",
       "1   2   Matti Matikainen\n",
       "2   3     Pirjo Pirkkala\n",
       "3   4    Päivi Päiväinen\n",
       "4   5  Lauri Laurilainen"
      ]
     },
     "execution_count": 84,
     "metadata": {},
     "output_type": "execute_result"
    }
   ],
   "source": [
    "print(\"Teachers\")\n",
    "pd.read_sql_query(\"SELECT * FROM Teachers\", db).head()"
   ]
  },
  {
   "cell_type": "code",
   "execution_count": 85,
   "id": "08ac42a7",
   "metadata": {},
   "outputs": [
    {
     "name": "stdout",
     "output_type": "stream",
     "text": [
      "Students\n"
     ]
    },
    {
     "data": {
      "text/html": [
       "<div>\n",
       "<style scoped>\n",
       "    .dataframe tbody tr th:only-of-type {\n",
       "        vertical-align: middle;\n",
       "    }\n",
       "\n",
       "    .dataframe tbody tr th {\n",
       "        vertical-align: top;\n",
       "    }\n",
       "\n",
       "    .dataframe thead th {\n",
       "        text-align: right;\n",
       "    }\n",
       "</style>\n",
       "<table border=\"1\" class=\"dataframe\">\n",
       "  <thead>\n",
       "    <tr style=\"text-align: right;\">\n",
       "      <th></th>\n",
       "      <th>id</th>\n",
       "      <th>name</th>\n",
       "    </tr>\n",
       "  </thead>\n",
       "  <tbody>\n",
       "    <tr>\n",
       "      <th>0</th>\n",
       "      <td>1</td>\n",
       "      <td>Henri Heikkinen</td>\n",
       "    </tr>\n",
       "    <tr>\n",
       "      <th>1</th>\n",
       "      <td>2</td>\n",
       "      <td>Late Mallikas</td>\n",
       "    </tr>\n",
       "    <tr>\n",
       "      <th>2</th>\n",
       "      <td>3</td>\n",
       "      <td>Laura Noheva</td>\n",
       "    </tr>\n",
       "    <tr>\n",
       "      <th>3</th>\n",
       "      <td>4</td>\n",
       "      <td>Jenna Jauhoinen</td>\n",
       "    </tr>\n",
       "    <tr>\n",
       "      <th>4</th>\n",
       "      <td>5</td>\n",
       "      <td>Arttu Auttavainen</td>\n",
       "    </tr>\n",
       "  </tbody>\n",
       "</table>\n",
       "</div>"
      ],
      "text/plain": [
       "   id               name\n",
       "0   1    Henri Heikkinen\n",
       "1   2      Late Mallikas\n",
       "2   3       Laura Noheva\n",
       "3   4    Jenna Jauhoinen\n",
       "4   5  Arttu Auttavainen"
      ]
     },
     "execution_count": 85,
     "metadata": {},
     "output_type": "execute_result"
    }
   ],
   "source": [
    "print(\"Students\")\n",
    "pd.read_sql_query(\"SELECT * FROM Students\", db).head()"
   ]
  },
  {
   "cell_type": "code",
   "execution_count": 86,
   "id": "d3fd3fab",
   "metadata": {},
   "outputs": [
    {
     "name": "stdout",
     "output_type": "stream",
     "text": [
      "Courses\n"
     ]
    },
    {
     "data": {
      "text/html": [
       "<div>\n",
       "<style scoped>\n",
       "    .dataframe tbody tr th:only-of-type {\n",
       "        vertical-align: middle;\n",
       "    }\n",
       "\n",
       "    .dataframe tbody tr th {\n",
       "        vertical-align: top;\n",
       "    }\n",
       "\n",
       "    .dataframe thead th {\n",
       "        text-align: right;\n",
       "    }\n",
       "</style>\n",
       "<table border=\"1\" class=\"dataframe\">\n",
       "  <thead>\n",
       "    <tr style=\"text-align: right;\">\n",
       "      <th></th>\n",
       "      <th>id</th>\n",
       "      <th>name</th>\n",
       "      <th>credits</th>\n",
       "    </tr>\n",
       "  </thead>\n",
       "  <tbody>\n",
       "    <tr>\n",
       "      <th>0</th>\n",
       "      <td>1</td>\n",
       "      <td>Python Basics</td>\n",
       "      <td>5</td>\n",
       "    </tr>\n",
       "    <tr>\n",
       "      <th>1</th>\n",
       "      <td>2</td>\n",
       "      <td>Data Analysis</td>\n",
       "      <td>8</td>\n",
       "    </tr>\n",
       "    <tr>\n",
       "      <th>2</th>\n",
       "      <td>3</td>\n",
       "      <td>Machine Learning</td>\n",
       "      <td>5</td>\n",
       "    </tr>\n",
       "    <tr>\n",
       "      <th>3</th>\n",
       "      <td>4</td>\n",
       "      <td>Data Processing and Visualization</td>\n",
       "      <td>10</td>\n",
       "    </tr>\n",
       "    <tr>\n",
       "      <th>4</th>\n",
       "      <td>5</td>\n",
       "      <td>Statistical Analysis</td>\n",
       "      <td>6</td>\n",
       "    </tr>\n",
       "  </tbody>\n",
       "</table>\n",
       "</div>"
      ],
      "text/plain": [
       "   id                               name  credits\n",
       "0   1                      Python Basics        5\n",
       "1   2                      Data Analysis        8\n",
       "2   3                   Machine Learning        5\n",
       "3   4  Data Processing and Visualization       10\n",
       "4   5               Statistical Analysis        6"
      ]
     },
     "execution_count": 86,
     "metadata": {},
     "output_type": "execute_result"
    }
   ],
   "source": [
    "print(\"Courses\")\n",
    "pd.read_sql_query(\"SELECT * FROM Courses\", db).head()"
   ]
  },
  {
   "cell_type": "markdown",
   "id": "b7221a0d",
   "metadata": {},
   "source": [
    "Let's get some information from the database"
   ]
  },
  {
   "cell_type": "code",
   "execution_count": 87,
   "id": "2202603b",
   "metadata": {},
   "outputs": [
    {
     "name": "stdout",
     "output_type": "stream",
     "text": [
      "Courses given by Pentti Penalainen: ['Data Analysis', 'Python Basics']\n",
      "Amount of credits given by Pentti Penalainen: 26\n",
      "Completed courses by Henri Heikkinen: [('Data Analysis', 2), ('Data Processing and Visualization', 3), ('Python Basics', 1)]\n",
      "\n",
      "Credits in 2020: 15\n",
      "Credits in 2021: 23\n",
      "Credits in 2022: 18\n",
      "Grade distribution of Python Basics: {1: 1, 2: 0, 3: 0, 4: 0, 5: 1}\n",
      "Grade distribution of Machine Learning: {1: 0, 2: 0, 3: 2, 4: 0, 5: 0}\n",
      "\n",
      "List of courses, number of teachers and number of completions:\n",
      "[('Data Analysis', 3, 2), ('Data Processing and Visualization', 2, 2), ('Machine Learning', 2, 2), ('Python Basics', 2, 2), ('Statistical Analysis', 1, 0)]\n",
      "\n",
      "List teachers and their courses:\n",
      "[('Lauri Laurilainen', ['Data Analysis', 'Machine Learning', 'Statistical Analysis']), ('Matti Matikainen', ['Data Analysis', 'Machine Learning']), ('Pentti Penalainen', ['Data Analysis', 'Python Basics']), ('Pirjo Pirkkala', ['Data Processing and Visualization', 'Python Basics']), ('Päivi Päiväinen', ['Data Processing and Visualization'])]\n",
      "\n",
      "Members in group Koodarit: ['Arttu Auttavainen', 'Jenna Jauhoinen', 'Late Mallikas', 'Päivi Päiväinen']\n",
      "Credits in each group:\n",
      "[('Fyysikot', 33), ('Koodarit', 28), ('Matemaatikot', 0), ('Urheilijat', 41)]\n",
      "Common groups of Pentti Penalainen and Late Mallikas: ['Urheilijat', 'Fyysikot']\n"
     ]
    }
   ],
   "source": [
    "print(f\"Courses given by Pentti Penalainen: {courses_by_teacher('Pentti Penalainen')}\")\n",
    "print(f\"Amount of credits given by Pentti Penalainen: {credits_by_teacher('Pentti Penalainen')}\")\n",
    "print(f\"Completed courses by Henri Heikkinen: {courses_by_student('Henri Heikkinen')}\")\n",
    "\n",
    "print(\"\")\n",
    "print(f\"Credits in 2020: {credits_by_year(2020)}\")\n",
    "print(f\"Credits in 2021: {credits_by_year(2021)}\")\n",
    "print(f\"Credits in 2022: {credits_by_year(2022)}\")\n",
    "print(f\"Grade distribution of Python Basics: {grade_distribution('Python Basics')}\")\n",
    "print(f\"Grade distribution of Machine Learning: {grade_distribution('Machine Learning')}\")\n",
    "\n",
    "print(\"\")\n",
    "print(\"List of courses, number of teachers and number of completions:\")\n",
    "print(course_list())\n",
    "print(\"\")\n",
    "print(\"List teachers and their courses:\")\n",
    "print(teacher_list())\n",
    "\n",
    "print(\"\")\n",
    "print(f\"Members in group Koodarit: {group_people('Koodarit')}\")\n",
    "print(\"Credits in each group:\")\n",
    "print(credits_in_groups())\n",
    "print(f\"Common groups of Pentti Penalainen and Late Mallikas: {common_groups('Pentti Penalainen','Laura Noheva')}\")\n"
   ]
  },
  {
   "cell_type": "code",
   "execution_count": 88,
   "id": "51736f4c",
   "metadata": {},
   "outputs": [],
   "source": [
    "db.close()"
   ]
  },
  {
   "cell_type": "code",
   "execution_count": null,
   "id": "b1ae617b",
   "metadata": {},
   "outputs": [],
   "source": []
  },
  {
   "cell_type": "code",
   "execution_count": null,
   "id": "1b0fa1b3",
   "metadata": {},
   "outputs": [],
   "source": []
  }
 ],
 "metadata": {
  "kernelspec": {
   "display_name": "Python 3 (ipykernel)",
   "language": "python",
   "name": "python3"
  },
  "language_info": {
   "codemirror_mode": {
    "name": "ipython",
    "version": 3
   },
   "file_extension": ".py",
   "mimetype": "text/x-python",
   "name": "python",
   "nbconvert_exporter": "python",
   "pygments_lexer": "ipython3",
   "version": "3.9.13"
  }
 },
 "nbformat": 4,
 "nbformat_minor": 5
}
